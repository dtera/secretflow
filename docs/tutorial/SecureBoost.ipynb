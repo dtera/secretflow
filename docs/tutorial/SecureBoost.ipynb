{
 "cells": [
  {
   "attachments": {},
   "cell_type": "markdown",
   "id": "9d11321e",
   "metadata": {},
   "source": [
    "# Vertically Federated XGB (SecureBoost) "
   ]
  },
  {
   "attachments": {},
   "cell_type": "markdown",
   "id": "079c8a84",
   "metadata": {},
   "source": [
    ">The following codes are demos only. It's **NOT for production** due to system security concerns, please **DO NOT** use it directly in production."
   ]
  },
  {
   "attachments": {},
   "cell_type": "markdown",
   "id": "89135d8c",
   "metadata": {},
   "source": [
    "Welcome to this tutorial on SecureBoost!\n",
    "\n",
    "In this tutorial, we will explore how to use SecretFlow's tree modeling capabilities to perform vertical federated learning using the SecureBoost algorithm. SecureBoost is a classical algorithm that prioritizes the protection of label information on vertically partitioned datasets. It accomplishes this using Homomorphic Encryption technology, which allows for the encryption of labels and the execution of key tree boosting steps in ciphertext. The outcome is a distributed boosted-trees model comprised of PYUObjects, with each party having knowledge only of their own split points. This implementation utilizes both HEU and PYU devices to achieve high performance with ease.\n",
    "\n",
    "Let's dive into the details and learn how to use SecureBoost with SecretFlow!"
   ]
  },
  {
   "attachments": {},
   "cell_type": "markdown",
   "id": "6c3af201",
   "metadata": {},
   "source": [
    "### Set up the devices\n",
    "\n",
    "Similar to other algorithms, setting up a secure cluster and specifying devices is necessary for SecureBoost implementation. \n",
    "\n",
    "In particular, a HEU device must be designated for SecureBoost to ensure the encryption of labels and the protection of sensitive information."
   ]
  },
  {
   "cell_type": "code",
   "execution_count": 1,
   "id": "991ffbd0",
   "metadata": {},
   "source": [
    "import spu\n",
    "from sklearn.metrics import roc_auc_score\n",
    "\n",
    "import secretflow as sf\n",
    "from secretflow.data import FedNdarray, PartitionWay\n",
    "from secretflow.device.driver import reveal, wait\n",
    "from secretflow.ml.boost.sgb_v import (\n",
    "    Sgb,\n",
    "    get_classic_XGB_params,\n",
    "    get_classic_lightGBM_params,\n",
    ")\n",
    "from secretflow.ml.boost.sgb_v.model import load_model\n",
    "import pprint\n",
    "\n",
    "pp = pprint.PrettyPrinter(depth=4)\n",
    "\n",
    "# Check the version of your SecretFlow\n",
    "print('The version of SecretFlow: {}'.format(sf.__version__))"
   ],
   "outputs": []
  },
  {
   "cell_type": "code",
   "execution_count": 2,
   "id": "9705a245",
   "metadata": {},
   "source": [
    "alice_ip = '127.0.0.1'\n",
    "bob_ip = '127.0.0.1'\n",
    "ip_party_map = {bob_ip: 'bob', alice_ip: 'alice'}\n",
    "\n",
    "_system_config = {'lineage_pinning_enabled': False}\n",
    "sf.shutdown()\n",
    "# init cluster\n",
    "sf.init(\n",
    "    ['alice', 'bob'],\n",
    "    address='local',\n",
    "    _system_config=_system_config,\n",
    "    object_store_memory=5 * 1024 * 1024 * 1024,\n",
    ")\n",
    "\n",
    "# SPU settings\n",
    "cluster_def = {\n",
    "    'nodes': [\n",
    "        {'party': 'alice', 'id': 'local:0', 'address': alice_ip + ':12945'},\n",
    "        {'party': 'bob', 'id': 'local:1', 'address': bob_ip + ':12946'},\n",
    "        # {'party': 'carol', 'id': 'local:2', 'address': '127.0.0.1:12347'},\n",
    "    ],\n",
    "    'runtime_config': {\n",
    "        # SEMI2K support 2/3 PC, ABY3 only support 3PC, CHEETAH only support 2PC.\n",
    "        # pls pay attention to size of nodes above. nodes size need match to PC setting.\n",
    "        'protocol': spu.spu_pb2.SEMI2K,\n",
    "        'field': spu.spu_pb2.FM128,\n",
    "    },\n",
    "}\n",
    "\n",
    "# HEU settings\n",
    "heu_config = {\n",
    "    'sk_keeper': {'party': 'alice'},\n",
    "    'evaluators': [{'party': 'bob'}],\n",
    "    'mode': 'PHEU',\n",
    "    'he_parameters': {\n",
    "        # ou is a fast encryption schema that is as secure as paillier.\n",
    "        'schema': 'ou',\n",
    "        'key_pair': {\n",
    "            'generate': {\n",
    "                # bit size should be 2048 to provide sufficient security.\n",
    "                'bit_size': 2048,\n",
    "            },\n",
    "        },\n",
    "    },\n",
    "    'encoding': {\n",
    "        'cleartext_type': 'DT_I32',\n",
    "        'encoder': \"IntegerEncoder\",\n",
    "        'encoder_args': {\"scale\": 1},\n",
    "    },\n",
    "}"
   ],
   "outputs": []
  },
  {
   "cell_type": "code",
   "execution_count": 3,
   "id": "377039e0",
   "metadata": {},
   "source": [
    "alice = sf.PYU('alice')\n",
    "bob = sf.PYU('bob')\n",
    "heu = sf.HEU(heu_config, cluster_def['runtime_config']['field'])"
   ],
   "outputs": []
  },
  {
   "attachments": {},
   "cell_type": "markdown",
   "id": "67d6f007",
   "metadata": {},
   "source": [
    "###  Prepare Data\n",
    "Basically we are preparing a vertical dataset."
   ]
  },
  {
   "cell_type": "code",
   "execution_count": 4,
   "id": "54ac3a76",
   "metadata": {},
   "source": [
    "from sklearn.datasets import load_breast_cancer\n",
    "\n",
    "ds = load_breast_cancer()\n",
    "x, y = ds['data'], ds['target']\n",
    "\n",
    "v_data = FedNdarray(\n",
    "    {\n",
    "        alice: (alice(lambda: x[:, :15])()),\n",
    "        bob: (bob(lambda: x[:, 15:])()),\n",
    "    },\n",
    "    partition_way=PartitionWay.VERTICAL,\n",
    ")\n",
    "label_data = FedNdarray(\n",
    "    {alice: (alice(lambda: y)())},\n",
    "    partition_way=PartitionWay.VERTICAL,\n",
    ")"
   ],
   "outputs": []
  },
  {
   "attachments": {},
   "cell_type": "markdown",
   "id": "baffdd20",
   "metadata": {},
   "source": [
    "### Prepare Params"
   ]
  },
  {
   "cell_type": "code",
   "execution_count": 5,
   "id": "2d51d646",
   "metadata": {},
   "source": [
    "params = get_classic_XGB_params()\n",
    "params['num_boost_round'] = 3\n",
    "params['max_depth'] = 3\n",
    "pp.pprint(params)"
   ],
   "outputs": []
  },
  {
   "attachments": {},
   "cell_type": "markdown",
   "id": "57bf92f0",
   "metadata": {},
   "source": [
    "### Run Sgb\n",
    "We create a Sgb object with heu device and fit the data."
   ]
  },
  {
   "cell_type": "code",
   "execution_count": 6,
   "id": "4bde4412",
   "metadata": {},
   "source": [
    "sgb = Sgb(heu)\n",
    "model = sgb.train(params, v_data, label_data)"
   ],
   "outputs": []
  },
  {
   "attachments": {},
   "cell_type": "markdown",
   "id": "56f1ee3c",
   "metadata": {},
   "source": [
    "### Model Evaluation\n",
    "Now we can compare the model outputs with true labels. "
   ]
  },
  {
   "cell_type": "code",
   "execution_count": 7,
   "id": "13c24066",
   "metadata": {},
   "source": [
    "yhat = model.predict(v_data)\n",
    "yhat = reveal(yhat)\n",
    "print(f\"auc: {roc_auc_score(y, yhat)}\")"
   ],
   "outputs": []
  },
  {
   "attachments": {},
   "cell_type": "markdown",
   "id": "ab3fa323",
   "metadata": {},
   "source": [
    "### Model Save and Load\n",
    "We can now save the model and load it to use later. Note that the model is a distributed identity, we will save to and load from multiple parties.\n",
    "\n",
    "Let's first define the paths."
   ]
  },
  {
   "cell_type": "code",
   "execution_count": 8,
   "id": "544c1c73",
   "metadata": {},
   "source": [
    "# each participant party needs a location to store\n",
    "saving_path_dict = {\n",
    "    # in production we may use remote oss, for example.\n",
    "    device: \"./\" + device.party\n",
    "    for device in v_data.partitions.keys()\n",
    "}"
   ],
   "outputs": []
  },
  {
   "attachments": {},
   "cell_type": "markdown",
   "id": "30ff1297",
   "metadata": {},
   "source": [
    "Then let's save the model."
   ]
  },
  {
   "cell_type": "code",
   "execution_count": 9,
   "id": "2c6c5d75",
   "metadata": {},
   "source": [
    "r = model.save_model(saving_path_dict)\n",
    "wait(r)"
   ],
   "outputs": []
  },
  {
   "attachments": {},
   "cell_type": "markdown",
   "id": "9559e3da",
   "metadata": {},
   "source": [
    "Now you can check the files at specified location.\n",
    "\n",
    "Finally, let's load the model and do a sanity check."
   ]
  },
  {
   "cell_type": "code",
   "execution_count": 10,
   "id": "1210d5c7",
   "metadata": {},
   "source": [
    "# alice is our label holder\n",
    "model_loaded = load_model(saving_path_dict, alice)\n",
    "fed_yhat_loaded = model_loaded.predict(v_data, alice)\n",
    "yhat_loaded = reveal(fed_yhat_loaded.partitions[alice])\n",
    "\n",
    "assert (\n",
    "    yhat == yhat_loaded\n",
    ").all(), \"loaded model predictions should match original, yhat {} vs yhat_loaded {}\".format(\n",
    "    yhat, yhat_loaded\n",
    ")"
   ],
   "outputs": []
  },
  {
   "attachments": {},
   "cell_type": "markdown",
   "id": "f032db30",
   "metadata": {},
   "source": [
    "## More training Options\n",
    "\n",
    "What if we want to train a boosting model in lightGBM style? We can do that by setting leaf_wise training and enable goss."
   ]
  },
  {
   "cell_type": "code",
   "execution_count": 11,
   "metadata": {},
   "source": [
    "params = get_classic_lightGBM_params()\n",
    "params['num_boost_round'] = 3\n",
    "params['max_leaf'] = 2**3\n",
    "pp.pprint(params)\n",
    "model = sgb.train(params, v_data, label_data)"
   ],
   "id": "1fbf74514631693c",
   "outputs": []
  },
  {
   "cell_type": "code",
   "execution_count": 12,
   "id": "a69b5e0b",
   "metadata": {},
   "source": [
    "yhat = model.predict(v_data)\n",
    "yhat = reveal(yhat)\n",
    "print(f\"auc: {roc_auc_score(y, yhat)}\")"
   ],
   "outputs": []
  },
  {
   "attachments": {},
   "cell_type": "markdown",
   "id": "fcebea9b",
   "metadata": {},
   "source": [
    "## Conclusion\n",
    "\n",
    "Great job on completing the tutorial!\n",
    "\n",
    "In conclusion, we have learned how to use tree models for training in SecretFlow and explored SecureBoost, a high-performance boosting algorithm designed specifically for vertically partitioned datasets. SecureBoost is similar to XGBoost but has a key focus on protecting sensitive labels in vertical learning scenarios. By utilizing homomorphic encryption and PYUObjects, SecureBoost allows us to train powerful distributed forest models while maintaining the privacy and security of our data.\n",
    "\n",
    "Thank you for participating in this tutorial, and we hope you found it informative and helpful!\n"
   ]
  },
  {
   "attachments": {},
   "cell_type": "markdown",
   "id": "d0d88145",
   "metadata": {},
   "source": []
  }
 ],
 "metadata": {
  "kernelspec": {
   "display_name": "Python 3.8.13 ('sf')",
   "language": "python",
   "name": "python3"
  },
  "language_info": {
   "codemirror_mode": {
    "name": "ipython",
    "version": 3
   },
   "file_extension": ".py",
   "mimetype": "text/x-python",
   "name": "python",
   "nbconvert_exporter": "python",
   "pygments_lexer": "ipython3",
   "version": "3.8.18"
  },
  "vscode": {
   "interpreter": {
    "hash": "db45a4cb4cd37a8de684dfb7fcf899b68fccb8bd32d97c5ad13e5de1245c0986"
   }
  }
 },
 "nbformat": 4,
 "nbformat_minor": 5
}
